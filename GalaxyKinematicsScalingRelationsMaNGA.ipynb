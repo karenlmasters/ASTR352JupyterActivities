{
 "cells": [
  {
   "cell_type": "markdown",
   "metadata": {
    "tags": []
   },
   "source": [
    "# Galaxy Kinematics, Scaling Relations Using MaNGA Data \n",
    "\n",
    "**This activity explores ways of interfacing with the MaNGA database, retrieving and visualizing data about the kinematics galaxies in the Universe. This notebook was developed and tested in the [SciServer Compute](www.sciserver.org) platform, in a \"Marvin\" Container\" with the \"manga\" data volume attached, but may work elsewhere.**  \n",
    "\n",
    "This tutorial developed by Karen Masters for ASTR352 at Haverford College, borrows heavilly from a variety of other sources, including: \n",
    "\n",
    "* [Basics of Marvin](https://sdss-marvin.readthedocs.io/en/stable/tutorials/notebooks/Basics_of_Marvin.html)\n",
    "* [MaNGA Tutorials](https://www.sdss4.org/dr17/manga/manga-tutorials/#MaNGATutorials)\n",
    "* [Marvin DAP Tools Tutorial](https://www.sdss4.org/dr17/manga/manga-tutorials/marvin-tutorial/marvin-tools) \n",
    "* [MaNGA DAP ReadTheDocs](https://sdss-mangadap.readthedocs.io/)\n",
    "* [Marvin Lean Tutorial](https://sdss-marvin.readthedocs.io/en/stable/tutorials/lean-tutorial.html)\n",
    "* [Linear Regression Tutorial](https://prappleizer.github.io/#tutorials) from the free online textbook [Python for Astronomers](https://prappleizer.github.io/index.html) \n",
    "\n",
    "As with all Jupyter Notebook tutorials, the procedure you should follow is to run each cell for yourself. You will see places below where you are asked to experiment with adding code, or copying lines of code and changing numbers (and excellent example of coding in practice). \n",
    "\n",
    "There are also places where you are asked to edit the Markdown (click on the cell to edit it) to answer various questions. \n",
    "\n",
    "For this Notebook please download as a PDF to turn the entire thing in on Moodle. \n"
   ]
  },
  {
   "cell_type": "markdown",
   "metadata": {
    "tags": []
   },
   "source": [
    "## What is MaNGA? \n",
    "\n",
    "First we need to understand MaNGA and Marvin, which are data/tools we will use to explore galaxy dynamics. \n",
    "\n",
    "1. Check out [Marvin Web](https://dr17.sdss.org/marvin/) and use Image Roulette to pick a galaxy you like (there isn't a correct answer). Click on the galaxy image to visit it's page. Make sure to try to turn on ``Map/Spec View`` for your galaxy. \n",
    "\n",
    "2. Which galaxy did you pick and why? Put a screengrab from it's MarvinWeb Page here: \n",
    "\n",
    "[[YOUR ANSWER HERE - MAKE THIS A LINK TO YOUR GALAXY]]\n",
    "\n",
    "My Choice is [8449-9102](https://dr17.sdss.org/marvin/galaxy/8449-9102/) mostly because it's a spiral, also because it has an asteroid moving through the SDSS image (long gone by the time the MaNGA data were taken).\n",
    "\n",
    "[[YOUR SCREENGRAB HERE]] (you can literally just drag it into the window in Sciserver. \n",
    "\n"
   ]
  },
  {
   "cell_type": "markdown",
   "metadata": {},
   "source": [
    "Also visit the \"Galaxy Properties\" tab and put a screengrab of that here. You can Zoom into where the points are in the plot by dragging a blue box over the plot area. \n",
    "\n",
    "[[YOUR ANSWER HERE]]"
   ]
  },
  {
   "cell_type": "markdown",
   "metadata": {},
   "source": [
    "But still what is MaNGA? There is a lot of information in [MaNGA Tutorials](https://www.sdss4.org/dr17/manga/manga-tutorials/#MaNGATutorials) on the web, so please read through:  \n",
    "\n",
    " * [What is IFU Spectroscopy?](https://www.sdss4.org/dr17/manga/manga-tutorials/what-is-ifu-spectroscopy/)\n",
    " * [Introduction to MaNGA](https://www.sdss4.org/surveys/manga/)\n",
    "    \n",
    "3. Make a list of 3-5 new terms from these pages (or if they aren't new to you, write a summary of what they mean). The [MaNGA Quick Reference to Terminology](https://www.sdss4.org/dr17/manga/getting-started/#Quickreferencetoterminology) page may be helpful. \n",
    "\n",
    "[[YOUR ANSWER HERE]]\n",
    "\n",
    "\n",
    "3(ii). Can you decode the plate-ifu names of MaNGA galaxies? What does the first number describe. What about the second number? Can you tell which size bundle your chosen galaxy from above was observed through? The [MaNGA Quick Reference to Terminology](https://www.sdss4.org/dr17/manga/getting-started/#Quickreferencetoterminology) page may be helpful. \n",
    "\n",
    "[[YOUR ANSWER HERE]]\n"
   ]
  },
  {
   "cell_type": "markdown",
   "metadata": {},
   "source": [
    "## MaNGA Map Files\n",
    "\n",
    "As hopepfully you know by now, MaNGA raw data are spectra, which are combined and gridded into spectral cubes through the Data Reduction Pipeline (DRP). We actually going to use MaNGA Maps files, which are maps of quantities derived from the MaNGA IFU data (like emission line fluxes, Doppler shifts of emission lines and other things). These come from something called the \"Data Analysis Pipeline\" (DAP). In the cells below work through the\n",
    "\n",
    "[Marvin DAP Tools Tutorial](https://www.sdss4.org/dr17/manga/manga-tutorials/marvin-tutorial/marvin-tools) \n",
    "\n",
    "4. Copy the code from that tutorial into cells below and run it, but please use the galaxy you selected above, rather than the example in the tutorial. \n",
    "\n",
    "Stop when you reach the section entitled \"Extract a binned spectrum and its model fit\" (i.e. don't do that section). \n",
    "\n"
   ]
  },
  {
   "cell_type": "markdown",
   "metadata": {},
   "source": [
    "First do the import statements. Sometimes running these twice removes errors in Sciserver (I don't know why)"
   ]
  },
  {
   "cell_type": "code",
   "execution_count": 159,
   "metadata": {
    "execution": {
     "iopub.execute_input": "2024-02-24T14:32:25.632366Z",
     "iopub.status.busy": "2024-02-24T14:32:25.631236Z",
     "iopub.status.idle": "2024-02-24T14:32:25.647523Z",
     "shell.execute_reply": "2024-02-24T14:32:25.645205Z",
     "shell.execute_reply.started": "2024-02-24T14:32:25.632289Z"
    },
    "tags": []
   },
   "outputs": [],
   "source": []
  },
  {
   "cell_type": "markdown",
   "metadata": {},
   "source": [
    "Now take another look at the image of your galaxy"
   ]
  },
  {
   "cell_type": "code",
   "execution_count": null,
   "metadata": {
    "tags": []
   },
   "outputs": [],
   "source": []
  },
  {
   "cell_type": "markdown",
   "metadata": {},
   "source": [
    "Now load the map file for your galaxy and take a look at the data model"
   ]
  },
  {
   "cell_type": "code",
   "execution_count": null,
   "metadata": {
    "tags": []
   },
   "outputs": [],
   "source": []
  },
  {
   "cell_type": "markdown",
   "metadata": {},
   "source": [
    "That should be a lot! Comment out the ```maps.datamodel``` line and re-run the cell before you submit this notebook. \n",
    "\n",
    "5. Pick one of the \"properties\" copy it's name below and write an explanation of what it is. I think this \"Data Model\" explains them better than the link (which was broken when I wrote this, but may be fixed by now). You may need to do some reading and following of links to find what you need. Extension (optional extra): can you find a published paper which uses this property from MaNGA data? \n",
    "\n",
    "https://data.sdss.org/datamodel/files/MANGA_SPECTRO_ANALYSIS/DRPVER/DAPVER/DAPTYPE/PLATE/IFU/manga-MAPS-DAPTYPE.html\n",
    "\n",
    "[[YOUR ANSWER HERE]]\n",
    "\n",
    "\n",
    "6. Also explain what a data model is and why it's important to have one for a file of data. \n",
    "\n",
    "[[YOUR ANSWER HERE]]\n",
    "    \n"
   ]
  },
  {
   "cell_type": "markdown",
   "metadata": {},
   "source": [
    "### Emission Line Measurements\n",
    " \n",
    "Still following the [Marvin DAP Tools Tutorial](https://www.sdss4.org/dr17/manga/manga-tutorials/marvin-tutorial/marvin-tools) - now make an Halpha map and plot it.  "
   ]
  },
  {
   "cell_type": "code",
   "execution_count": null,
   "metadata": {
    "tags": []
   },
   "outputs": [],
   "source": []
  },
  {
   "cell_type": "markdown",
   "metadata": {},
   "source": [
    "7. Write a comment about how the Halpha map compares to the optical image of the galaxy. Can you see the same structures? Why is it (possibly) roughly hexagonal in overall shape? What's the deal with the grey hatching in the background? \n",
    "\n",
    "[[YOUR ANSWER HERE]]\n",
    "\n"
   ]
  },
  {
   "cell_type": "markdown",
   "metadata": {},
   "source": [
    "Now make a velocity map of the Halpha line limited to only spaxels with S/N>10. "
   ]
  },
  {
   "cell_type": "code",
   "execution_count": null,
   "metadata": {
    "tags": []
   },
   "outputs": [],
   "source": []
  },
  {
   "cell_type": "markdown",
   "metadata": {},
   "source": [
    "8. Explain in your own words what this is. Things to think about: What is Halpha? Why is \"6564\" in the title? Why does this emission line probe ionized gas? What is the zero point of velocity? \n",
    "\n",
    "[[YOUR ANSWER HERE]]\n",
    "\n"
   ]
  },
  {
   "cell_type": "markdown",
   "metadata": {},
   "source": [
    "### Stellar Velocity Compared to Ionized Gas Velocity\n",
    "\n",
    "This isn't in the [Marvin DAP Tools Tutorial](https://www.sdss4.org/dr17/manga/manga-tutorials/marvin-tutorial/marvin-tools) , but you can plot the stellar velocity using \n",
    "\n",
    "```star_vfield = maps.stellar_velocity```\n",
    "\n",
    "```mask = ha.mask | mask_snr10```\n",
    "\n",
    "then \n",
    "\n",
    "```fig, ax = mapplot.plot(dapmap=star_vfield, value=star_vfield.value, mask=mask)```\n",
    "\n",
    "9. Make a plot of the stellar velocity below, and comment on how it appears similar/to or differs to the ionized gas velocity. \n",
    "\n",
    "[[[YOUR ANSWER HERE]]]\n",
    "\n"
   ]
  },
  {
   "cell_type": "code",
   "execution_count": null,
   "metadata": {
    "tags": []
   },
   "outputs": [],
   "source": []
  },
  {
   "cell_type": "markdown",
   "metadata": {},
   "source": [
    "### Velocity Dispersion \n",
    "\n",
    "Stellar velocities come from fits to the absorption features in the atmospheres of stars. The shift of the peak is what is plotted as the \"bulk\" velocity of the stars, but the broadening of the line also gives information about the amplitude of random motions there are in the stars in that little region of the galaxy. This is called the velocity dispersion. \n",
    "\n",
    "Back to following the [Marvin DAP Tools Tutorial](https://www.sdss4.org/dr17/manga/manga-tutorials/marvin-tutorial/marvin-tools) , plot the stellar velocity dispersion below. Make sure to use the correction for instrumental resolution. "
   ]
  },
  {
   "cell_type": "code",
   "execution_count": null,
   "metadata": {
    "tags": []
   },
   "outputs": [],
   "source": []
  },
  {
   "cell_type": "markdown",
   "metadata": {},
   "source": [
    "10. Comment on the stellar velocity dispersion map. How do the amplitudes compare to the stellar (or ionized gas) velocity? Possibly hard question: what is an instrumental resolution correction? What is the spectral resolution of the MaNGA data? \n",
    "\n",
    "[[[YOUR ANSWER HERE]]]\n",
    "\n",
    " "
   ]
  },
  {
   "cell_type": "markdown",
   "metadata": {},
   "source": [
    "### Spectral Index Measurements\n",
    "\n",
    "Some quantities which are measured on the average stellar - or continuum spectra of a galaxy (called spectral indexes) should be corrected for stellar velocity dispersion. This is decribed more in [DAP Documentation](https://sdss-mangadap.readthedocs.io/en/latest/corrections.html#corrections). I suggest plotting Dn4000 rather than HBeta as in the [Marvin DAP Tools Tutorial](https://www.sdss4.org/dr17/manga/manga-tutorials/marvin-tutorial/marvin-tools) (replace ```specindex_hb``` with ```specindex_dn4000``` wherever it appears). Do this in the cell below. "
   ]
  },
  {
   "cell_type": "code",
   "execution_count": null,
   "metadata": {
    "tags": []
   },
   "outputs": [],
   "source": []
  },
  {
   "cell_type": "markdown",
   "metadata": {},
   "source": [
    "11. Dn4000 correlates well with the age of the stellar population - where it is high the stars are likely old, and where it's small they are young. Where in your galaxy are the stars/old or young? Do you notice any patterns? \n",
    "\n",
    "[[[YOUR ANSWER HERE]]]\n",
    "\n"
   ]
  },
  {
   "cell_type": "markdown",
   "metadata": {},
   "source": [
    "## Unique Bins\n",
    "\n",
    "Finally, we'll plot unique data - meaning the values which are independently measured. This isn't true if you plot data in every spaxel, for various reasons. Spaxels are actually smaller than the spatial resolution of the data (0.5\" compared to 2.5\") and the data are also often binned to improve the signal-noise ratio. A bin here is a collection of spatially adjacent spaxels. As the [Marvin DAP Tools Tutorial](https://www.sdss4.org/dr17/manga/manga-tutorials/marvin-tutorial/marvin-tools) describes, the MaNGA spaxels are binned in various different ways. Use the code shown in the [Marvin DAP Tools Tutorial](https://www.sdss4.org/dr17/manga/manga-tutorials/marvin-tutorial/marvin-tools)to plot the velocity of unique stellar velocity bins in a scatter plot. **Make sure to use your galaxy, not the example in the tutorial - you have to change the ```plate-ifu=7443-12703``` in the code**"
   ]
  },
  {
   "cell_type": "code",
   "execution_count": null,
   "metadata": {
    "tags": []
   },
   "outputs": [],
   "source": []
  },
  {
   "cell_type": "markdown",
   "metadata": {
    "execution": {
     "iopub.execute_input": "2024-02-24T13:42:34.212940Z",
     "iopub.status.busy": "2024-02-24T13:42:34.211632Z",
     "iopub.status.idle": "2024-02-24T13:42:34.796570Z",
     "shell.execute_reply": "2024-02-24T13:42:34.794705Z",
     "shell.execute_reply.started": "2024-02-24T13:42:34.212887Z"
    },
    "tags": []
   },
   "source": [
    "We're going to make the same plot in Marvin to compare. You might want to tweak the color bar in the Marvin plot to better match what you just did (so you can compare colours directly). [Marvin Custom Color-Bar Range](https://sdss-marvin.readthedocs.io/en/latest/tutorials/plotting-tutorial.html#custom-map-colorbar-range-options) tutorial gives examples of how to do that. Change the numbers to work better for your galaxy.  "
   ]
  },
  {
   "cell_type": "code",
   "execution_count": 95,
   "metadata": {
    "execution": {
     "iopub.execute_input": "2024-02-24T13:46:26.508049Z",
     "iopub.status.busy": "2024-02-24T13:46:26.507199Z",
     "iopub.status.idle": "2024-02-24T13:46:27.119008Z",
     "shell.execute_reply": "2024-02-24T13:46:27.117349Z",
     "shell.execute_reply.started": "2024-02-24T13:46:26.507995Z"
    }
   },
   "outputs": [
    {
     "data": {
      "image/png": "[encoded data removed]",
      "text/plain": [
       "<Figure size 432x288 with 2 Axes>"
      ]
     },
     "metadata": {},
     "output_type": "display_data"
    }
   ],
   "source": [
    "fig, ax = star_vfield.plot(cbrange=[-150, 150])"
   ]
  },
  {
   "cell_type": "markdown",
   "metadata": {},
   "source": [
    "12. Can you see how the Marvin map deals with binning. Which map do you think is easier to understand? Any other differences you notice? \n",
    "\n",
    "[[[YOUR ANSWER HERE]]]\n",
    "\n"
   ]
  },
  {
   "cell_type": "markdown",
   "metadata": {},
   "source": [
    "## Selecting Galaxies in Marvin\n",
    "\n",
    "Now we'll work through the [Marvin Lean Tutorial](https://sdss-marvin.readthedocs.io/en/stable/tutorials/lean-tutorial.html) to learn some of the other functions of Marvin. \n",
    "\n",
    "As before you will copy the code here, and make sure to add some Markdown, or comment the code to explain what each step is doing.\n",
    "\n",
    "These documentation pages may be useful: \n",
    "* [Marvin Queries](https://sdss-marvin.readthedocs.io/en/stable/tutorials/notebooks/marvin_queries.html) \n",
    "* [BPT Diagrams in Marvin](https://sdss-marvin.readthedocs.io/en/stable/tools/bpt.html)"
   ]
  },
  {
   "cell_type": "code",
   "execution_count": 96,
   "metadata": {
    "execution": {
     "iopub.execute_input": "2024-02-24T13:46:55.284436Z",
     "iopub.status.busy": "2024-02-24T13:46:55.283615Z",
     "iopub.status.idle": "2024-02-24T13:46:56.656718Z",
     "shell.execute_reply": "2024-02-24T13:46:56.654810Z",
     "shell.execute_reply.started": "2024-02-24T13:46:55.284365Z"
    },
    "tags": []
   },
   "outputs": [],
   "source": []
  },
  {
   "cell_type": "code",
   "execution_count": null,
   "metadata": {
    "tags": []
   },
   "outputs": [],
   "source": []
  },
  {
   "cell_type": "code",
   "execution_count": null,
   "metadata": {
    "tags": []
   },
   "outputs": [],
   "source": []
  },
  {
   "cell_type": "code",
   "execution_count": null,
   "metadata": {
    "tags": []
   },
   "outputs": [],
   "source": []
  },
  {
   "cell_type": "code",
   "execution_count": null,
   "metadata": {
    "tags": []
   },
   "outputs": [],
   "source": []
  },
  {
   "cell_type": "code",
   "execution_count": null,
   "metadata": {
    "tags": []
   },
   "outputs": [],
   "source": []
  },
  {
   "cell_type": "code",
   "execution_count": null,
   "metadata": {
    "tags": []
   },
   "outputs": [],
   "source": []
  },
  {
   "cell_type": "code",
   "execution_count": null,
   "metadata": {
    "tags": []
   },
   "outputs": [],
   "source": []
  },
  {
   "cell_type": "code",
   "execution_count": null,
   "metadata": {
    "tags": []
   },
   "outputs": [],
   "source": []
  },
  {
   "cell_type": "code",
   "execution_count": null,
   "metadata": {
    "tags": []
   },
   "outputs": [],
   "source": []
  },
  {
   "cell_type": "code",
   "execution_count": null,
   "metadata": {
    "tags": []
   },
   "outputs": [],
   "source": []
  },
  {
   "cell_type": "code",
   "execution_count": null,
   "metadata": {
    "tags": []
   },
   "outputs": [],
   "source": []
  },
  {
   "cell_type": "markdown",
   "metadata": {},
   "source": [
    "EXTENSION: \n",
    "\n",
    "Now you have Halpha maps of several galaxies use the [MultiPanel Plot Example](https://sdss-marvin.readthedocs.io/en/stable/tutorials/plotting-tutorial.html#multi-panel-map-plot-multiple-galaxies) to add a multi panel plot showing a few together alongside their halpha velocity.\n",
    "\n",
    "\n",
    "Hint - you can let a list of two plateifus from the query you ran above using ```plateifus = df['plateifu'][:2]\n",
    "```"
   ]
  },
  {
   "cell_type": "code",
   "execution_count": null,
   "metadata": {
    "tags": []
   },
   "outputs": [],
   "source": []
  },
  {
   "cell_type": "markdown",
   "metadata": {},
   "source": [
    "## Fitting the Tully-Fisher Relation\n",
    "\n",
    "We're now going to explore some of the galaxies and data from [Ristea et al. 2024](https://academic.oup.com/mnras/article/527/3/7438/7450469#431384593) who used MaNGA data to explore the stellar mass Tully-Fisher relation. "
   ]
  },
  {
   "cell_type": "markdown",
   "metadata": {
    "execution": {
     "iopub.execute_input": "2024-02-23T21:47:52.030214Z",
     "iopub.status.busy": "2024-02-23T21:47:52.029482Z",
     "iopub.status.idle": "2024-02-23T21:47:52.042681Z",
     "shell.execute_reply": "2024-02-23T21:47:52.039913Z",
     "shell.execute_reply.started": "2024-02-23T21:47:52.030160Z"
    }
   },
   "source": [
    "First plot an image of the galaxy 9883-12703, which is one of the galaxies used by Ristea et al. (HINT: just grab the code you used to do this earlier in this notebook). "
   ]
  },
  {
   "cell_type": "code",
   "execution_count": null,
   "metadata": {
    "tags": []
   },
   "outputs": [],
   "source": []
  },
  {
   "cell_type": "markdown",
   "metadata": {
    "execution": {
     "iopub.execute_input": "2024-02-23T21:44:33.208203Z",
     "iopub.status.busy": "2024-02-23T21:44:33.207441Z",
     "iopub.status.idle": "2024-02-23T21:44:33.229164Z",
     "shell.execute_reply": "2024-02-23T21:44:33.226786Z",
     "shell.execute_reply.started": "2024-02-23T21:44:33.208136Z"
    }
   },
   "source": [
    "Now plot the stellar and gas kinematics maps, and two other maps quantites of your choice for the galaxy 9883-12703. Modify this [Multi-panel Map Plot (Single Galaxy)](https://sdss-marvin.readthedocs.io/en/stable/tutorials/plotting-tutorial.html#multi-panel-map-plot-single-galaxy) code to do this. "
   ]
  },
  {
   "cell_type": "code",
   "execution_count": null,
   "metadata": {
    "tags": []
   },
   "outputs": [],
   "source": []
  },
  {
   "cell_type": "markdown",
   "metadata": {},
   "source": [
    "For Tully-Fisher we need rotation curves, which are plots of the circular velocity as a function of radius. A quick version of that is actually pretty easy to do in Marvin because each spaxel comes with a ```radius``` value, in units of \"effective radius\" and deprojected assuming a \"thin-disk\" (i.e. assuming the galaxy is actually a disc with zero thickness viewed at some angle to the line of sight and finding the radius in the plane of that disc).  \n",
    "\n",
    "13. Run the below code, and add some appropriate axis titles (edit the bit which says \"somthing with units\"). You might want to use Latex commands in the titles for nice formatting: see [Rendering math equations using TeX in Matplotlib](https://matplotlib.org/stable/gallery/text_labels_and_annotations/tex_demo.html) if you don't know how, or need a reminder. "
   ]
  },
  {
   "cell_type": "code",
   "execution_count": 111,
   "metadata": {
    "execution": {
     "iopub.execute_input": "2024-02-24T13:49:43.245186Z",
     "iopub.status.busy": "2024-02-24T13:49:43.244404Z",
     "iopub.status.idle": "2024-02-24T13:49:44.432099Z",
     "shell.execute_reply": "2024-02-24T13:49:44.429894Z",
     "shell.execute_reply.started": "2024-02-24T13:49:43.245120Z"
    },
    "tags": []
   },
   "outputs": [],
   "source": [
    "radius=maps.spx_ellcoo_r_re\n",
    "gas_vfield = maps.emline_gvel_ha_6564\n",
    "ha=maps.emline_gflux_ha_6564\n",
    "mask_snr10 = (ha.snr < 10) * ha.pixmask.labels_to_value('DONOTUSE')\n",
    "mask = ha.mask | mask_snr10"
   ]
  },
  {
   "cell_type": "code",
   "execution_count": null,
   "metadata": {
    "tags": []
   },
   "outputs": [],
   "source": [
    "plt.plot(radius.value[mask==0],halphavel.value[mask==0],'.')\n",
    "plt.xlabel('Something with units')\n",
    "plt.ylabel('Something with units')"
   ]
  },
  {
   "cell_type": "markdown",
   "metadata": {},
   "source": [
    "This probably doesn't look like you expect, that's because one side of the galaxy is moving away from us, and the other is approaching. Never mind we can fix that by plotting the absolute value."
   ]
  },
  {
   "cell_type": "code",
   "execution_count": null,
   "metadata": {
    "tags": []
   },
   "outputs": [],
   "source": [
    "vcirc = abs(halphavel.value[mask==0])\n",
    "plt.plot(radius.value[mask==0],vcirc,'.')\n",
    "plt.xlabel('Something with units')\n",
    "plt.ylabel('Something with units')"
   ]
  },
  {
   "cell_type": "markdown",
   "metadata": {},
   "source": [
    "It's still a bit odd though as it shows a range of vaues from close to zero to a max at all points. What's up with that? Any ideas how to fix it? \n",
    "\n",
    "[[[PUT YOUR THOUGHTS HERE]]]\n",
    "\n",
    "HINT:  [SciPy Binned Statistic](https://docs.scipy.org/doc/scipy/reference/generated/scipy.stats.binned_statistic.html) might be useful. It's a bit tricky to work with, so let me show you how to do the mean values. Is this the best statistic here? Make sure to add your axis labels from above. Get into the habit of **never** making a plot without labels. "
   ]
  },
  {
   "cell_type": "code",
   "execution_count": 115,
   "metadata": {
    "execution": {
     "iopub.execute_input": "2024-02-24T13:51:47.556958Z",
     "iopub.status.busy": "2024-02-24T13:51:47.556160Z",
     "iopub.status.idle": "2024-02-24T13:51:47.974353Z",
     "shell.execute_reply": "2024-02-24T13:51:47.972293Z",
     "shell.execute_reply.started": "2024-02-24T13:51:47.556891Z"
    },
    "tags": []
   },
   "outputs": [
    {
     "data": {
      "text/plain": [
       "<matplotlib.legend.Legend at 0x7f1d969dadf0>"
      ]
     },
     "execution_count": 115,
     "metadata": {},
     "output_type": "execute_result"
    },
    {
     "data": {
      "image/png": "[encoded data removed]",
      "text/plain": [
       "<Figure size 432x288 with 1 Axes>"
      ]
     },
     "metadata": {},
     "output_type": "display_data"
    }
   ],
   "source": [
    "from scipy import stats\n",
    "\n",
    "binned_vel, bin_edges, binnumber = stats.binned_statistic(radius.value[mask==0],\n",
    "                vcirc, statistic='mean')\n",
    "bin_width = (bin_edges[1] - bin_edges[0])\n",
    "bin_centers = bin_edges[1:] - bin_width/2\n",
    "\n",
    "plt.figure()\n",
    "plt.plot(radius.value[mask==0],vcirc, 'b.', label='raw data')\n",
    "plt.plot(bin_centers, binned_vel, 'r', label='binned statistic')\n",
    "plt.legend()"
   ]
  },
  {
   "cell_type": "markdown",
   "metadata": {},
   "source": [
    "Copy, and then modify the code above to do something different with the data. "
   ]
  },
  {
   "cell_type": "code",
   "execution_count": null,
   "metadata": {
    "tags": []
   },
   "outputs": [],
   "source": []
  },
  {
   "cell_type": "markdown",
   "metadata": {},
   "source": [
    "For this galaxy, you can find the values Ristea et al. measured for the velocity at different radii in the [Supplementary Data](https://academic.oup.com/mnras/article/527/3/7438/7450469#supplementary-data). It's one of the galaxies shown in the README file. They say they measure \n",
    "\n",
    "\"Vel_G_NRe (N = 1, 1.3, 2): ionised gas rotational velocity at N×𝑅e, from the centred and inclination-corrected rotation curve [km s−1];\" \n",
    "\n",
    "14. Add these three data points to the plot you have made. How do they compare with your measurement so far. What parts haven't we done? "
   ]
  },
  {
   "cell_type": "code",
   "execution_count": 245,
   "metadata": {
    "execution": {
     "iopub.execute_input": "2024-02-24T15:56:29.201129Z",
     "iopub.status.busy": "2024-02-24T15:56:29.198459Z",
     "iopub.status.idle": "2024-02-24T15:56:29.213969Z",
     "shell.execute_reply": "2024-02-24T15:56:29.212075Z",
     "shell.execute_reply.started": "2024-02-24T15:56:29.201060Z"
    },
    "tags": []
   },
   "outputs": [],
   "source": [
    "paperradius=[] #Fill in these values\n",
    "papervel = []\n"
   ]
  },
  {
   "cell_type": "markdown",
   "metadata": {},
   "source": [
    "## Fitting a Line to Data\n",
    "\n",
    "Now we're going to just use the data from Ristea et al. and fit our own Tully-Fisher relation to their data (our version of their Figure 3). \n",
    "\n",
    "To do this we will work through the [Linear Regression Tutorial](https://prappleizer.github.io/#tutorials) from the free online textbook [Python for Astronomers](https://prappleizer.github.io/index.html) but use the data from Ristea et al. as our example. "
   ]
  },
  {
   "cell_type": "markdown",
   "metadata": {},
   "source": [
    "So the first thing to do is to get the Ristea et al. fits table on the same computer as this Notebook (e.g. upload to Sciserver if using Sciserver). Then import it into a pandas dataframe, using astropy..."
   ]
  },
  {
   "cell_type": "code",
   "execution_count": 126,
   "metadata": {
    "execution": {
     "iopub.execute_input": "2024-02-24T14:00:08.136779Z",
     "iopub.status.busy": "2024-02-24T14:00:08.136051Z",
     "iopub.status.idle": "2024-02-24T14:00:08.244568Z",
     "shell.execute_reply": "2024-02-24T14:00:08.242539Z",
     "shell.execute_reply.started": "2024-02-24T14:00:08.136726Z"
    },
    "tags": []
   },
   "outputs": [],
   "source": [
    "from astropy.table import Table\n",
    "dat = Table.read('MaNGA_DR17_Kinematic_Ristea23_v1fits', format='fits')\n",
    "df = dat.to_pandas()"
   ]
  },
  {
   "cell_type": "markdown",
   "metadata": {
    "execution": {
     "iopub.execute_input": "2024-02-23T22:53:25.235118Z",
     "iopub.status.busy": "2024-02-23T22:53:25.234352Z",
     "iopub.status.idle": "2024-02-23T22:53:25.255174Z",
     "shell.execute_reply": "2024-02-23T22:53:25.253353Z",
     "shell.execute_reply.started": "2024-02-23T22:53:25.235048Z"
    },
    "tags": []
   },
   "source": [
    "Now you can do all the things you learned in the last tutorial with this file. Yay! For example: "
   ]
  },
  {
   "cell_type": "code",
   "execution_count": 127,
   "metadata": {
    "execution": {
     "iopub.execute_input": "2024-02-24T14:00:10.135897Z",
     "iopub.status.busy": "2024-02-24T14:00:10.134841Z",
     "iopub.status.idle": "2024-02-24T14:00:10.326643Z",
     "shell.execute_reply": "2024-02-24T14:00:10.324805Z",
     "shell.execute_reply.started": "2024-02-24T14:00:10.135843Z"
    },
    "tags": []
   },
   "outputs": [
    {
     "data": {
      "text/html": [
       "<div>\n",
       "<style scoped>\n",
       "    .dataframe tbody tr th:only-of-type {\n",
       "        vertical-align: middle;\n",
       "    }\n",
       "\n",
       "    .dataframe tbody tr th {\n",
       "        vertical-align: top;\n",
       "    }\n",
       "\n",
       "    .dataframe thead th {\n",
       "        text-align: right;\n",
       "    }\n",
       "</style>\n",
       "<table border=\"1\" class=\"dataframe\">\n",
       "  <thead>\n",
       "    <tr style=\"text-align: right;\">\n",
       "      <th></th>\n",
       "      <th>RA</th>\n",
       "      <th>DEC</th>\n",
       "      <th>log_Mstar</th>\n",
       "      <th>log_SFR</th>\n",
       "      <th>Vel_ST_1Re</th>\n",
       "      <th>err_Vel_ST_1Re</th>\n",
       "      <th>Vel_ST_1.3Re</th>\n",
       "      <th>err_Vel_ST_1.3Re</th>\n",
       "      <th>Vel_ST_2Re</th>\n",
       "      <th>err_Vel_ST_2Re</th>\n",
       "      <th>...</th>\n",
       "      <th>Vel_G_1.3Re</th>\n",
       "      <th>err_Vel_G_1.3Re</th>\n",
       "      <th>Vel_G_2Re</th>\n",
       "      <th>err_Vel_G_2Re</th>\n",
       "      <th>Vsig_G_1Re</th>\n",
       "      <th>Vsig_G_1.3Re</th>\n",
       "      <th>Vsig_G_2Re</th>\n",
       "      <th>Sample</th>\n",
       "      <th>Rmax_ST</th>\n",
       "      <th>Rmax_G</th>\n",
       "    </tr>\n",
       "  </thead>\n",
       "  <tbody>\n",
       "    <tr>\n",
       "      <th>count</th>\n",
       "      <td>4215.000000</td>\n",
       "      <td>4215.000000</td>\n",
       "      <td>4215.000000</td>\n",
       "      <td>4215.000000</td>\n",
       "      <td>2683.000000</td>\n",
       "      <td>2683.000000</td>\n",
       "      <td>2211.000000</td>\n",
       "      <td>2211.000000</td>\n",
       "      <td>530.000000</td>\n",
       "      <td>530.000000</td>\n",
       "      <td>...</td>\n",
       "      <td>3047.000000</td>\n",
       "      <td>3047.000000</td>\n",
       "      <td>1019.000000</td>\n",
       "      <td>1019.000000</td>\n",
       "      <td>3.430000e+03</td>\n",
       "      <td>3047.000000</td>\n",
       "      <td>1019.000000</td>\n",
       "      <td>4215.000000</td>\n",
       "      <td>2689.000000</td>\n",
       "      <td>3430.000000</td>\n",
       "    </tr>\n",
       "    <tr>\n",
       "      <th>mean</th>\n",
       "      <td>183.003134</td>\n",
       "      <td>28.444095</td>\n",
       "      <td>10.397897</td>\n",
       "      <td>-0.455838</td>\n",
       "      <td>153.706179</td>\n",
       "      <td>19.422458</td>\n",
       "      <td>167.347745</td>\n",
       "      <td>21.235919</td>\n",
       "      <td>176.714550</td>\n",
       "      <td>25.231502</td>\n",
       "      <td>...</td>\n",
       "      <td>163.069427</td>\n",
       "      <td>11.037370</td>\n",
       "      <td>175.314716</td>\n",
       "      <td>11.292862</td>\n",
       "      <td>1.754429e+00</td>\n",
       "      <td>2.021641</td>\n",
       "      <td>2.258514</td>\n",
       "      <td>2.474021</td>\n",
       "      <td>1.384641</td>\n",
       "      <td>1.474461</td>\n",
       "    </tr>\n",
       "    <tr>\n",
       "      <th>std</th>\n",
       "      <td>76.247429</td>\n",
       "      <td>18.071347</td>\n",
       "      <td>0.648660</td>\n",
       "      <td>0.772142</td>\n",
       "      <td>60.847614</td>\n",
       "      <td>13.503262</td>\n",
       "      <td>62.284140</td>\n",
       "      <td>13.602468</td>\n",
       "      <td>56.550937</td>\n",
       "      <td>13.721024</td>\n",
       "      <td>...</td>\n",
       "      <td>75.338318</td>\n",
       "      <td>6.826275</td>\n",
       "      <td>66.335105</td>\n",
       "      <td>5.966135</td>\n",
       "      <td>8.537545e-01</td>\n",
       "      <td>0.935755</td>\n",
       "      <td>0.878977</td>\n",
       "      <td>1.019379</td>\n",
       "      <td>0.324734</td>\n",
       "      <td>0.353866</td>\n",
       "    </tr>\n",
       "    <tr>\n",
       "      <th>min</th>\n",
       "      <td>0.008808</td>\n",
       "      <td>-9.302426</td>\n",
       "      <td>8.311000</td>\n",
       "      <td>-3.341000</td>\n",
       "      <td>22.235921</td>\n",
       "      <td>1.481081</td>\n",
       "      <td>18.529519</td>\n",
       "      <td>1.618280</td>\n",
       "      <td>28.260901</td>\n",
       "      <td>3.608339</td>\n",
       "      <td>...</td>\n",
       "      <td>31.611598</td>\n",
       "      <td>7.000000</td>\n",
       "      <td>44.140662</td>\n",
       "      <td>7.000000</td>\n",
       "      <td>3.498140e-08</td>\n",
       "      <td>0.071193</td>\n",
       "      <td>0.196093</td>\n",
       "      <td>1.000000</td>\n",
       "      <td>1.000000</td>\n",
       "      <td>1.000000</td>\n",
       "    </tr>\n",
       "    <tr>\n",
       "      <th>25%</th>\n",
       "      <td>129.575530</td>\n",
       "      <td>14.302337</td>\n",
       "      <td>9.929000</td>\n",
       "      <td>-0.857500</td>\n",
       "      <td>109.931653</td>\n",
       "      <td>10.388668</td>\n",
       "      <td>122.850060</td>\n",
       "      <td>11.692165</td>\n",
       "      <td>137.126743</td>\n",
       "      <td>15.465548</td>\n",
       "      <td>...</td>\n",
       "      <td>105.682820</td>\n",
       "      <td>7.958917</td>\n",
       "      <td>125.296019</td>\n",
       "      <td>8.300557</td>\n",
       "      <td>1.100537e+00</td>\n",
       "      <td>1.324439</td>\n",
       "      <td>1.659018</td>\n",
       "      <td>2.000000</td>\n",
       "      <td>1.300000</td>\n",
       "      <td>1.300000</td>\n",
       "    </tr>\n",
       "    <tr>\n",
       "      <th>50%</th>\n",
       "      <td>193.855953</td>\n",
       "      <td>29.730240</td>\n",
       "      <td>10.475000</td>\n",
       "      <td>-0.332000</td>\n",
       "      <td>149.221053</td>\n",
       "      <td>14.795975</td>\n",
       "      <td>165.344211</td>\n",
       "      <td>16.837213</td>\n",
       "      <td>177.027561</td>\n",
       "      <td>21.116852</td>\n",
       "      <td>...</td>\n",
       "      <td>147.294116</td>\n",
       "      <td>9.036829</td>\n",
       "      <td>164.012096</td>\n",
       "      <td>9.608187</td>\n",
       "      <td>1.687689e+00</td>\n",
       "      <td>1.959465</td>\n",
       "      <td>2.236492</td>\n",
       "      <td>2.000000</td>\n",
       "      <td>1.300000</td>\n",
       "      <td>1.300000</td>\n",
       "    </tr>\n",
       "    <tr>\n",
       "      <th>75%</th>\n",
       "      <td>241.004600</td>\n",
       "      <td>43.796510</td>\n",
       "      <td>10.900000</td>\n",
       "      <td>0.089500</td>\n",
       "      <td>192.205449</td>\n",
       "      <td>23.999187</td>\n",
       "      <td>207.085632</td>\n",
       "      <td>26.667221</td>\n",
       "      <td>212.973943</td>\n",
       "      <td>31.934439</td>\n",
       "      <td>...</td>\n",
       "      <td>207.417699</td>\n",
       "      <td>11.159183</td>\n",
       "      <td>216.536433</td>\n",
       "      <td>12.075678</td>\n",
       "      <td>2.266262e+00</td>\n",
       "      <td>2.603519</td>\n",
       "      <td>2.809149</td>\n",
       "      <td>3.000000</td>\n",
       "      <td>1.300000</td>\n",
       "      <td>2.000000</td>\n",
       "    </tr>\n",
       "    <tr>\n",
       "      <th>max</th>\n",
       "      <td>359.175241</td>\n",
       "      <td>64.575924</td>\n",
       "      <td>11.884000</td>\n",
       "      <td>1.484000</td>\n",
       "      <td>422.727360</td>\n",
       "      <td>101.221194</td>\n",
       "      <td>421.255184</td>\n",
       "      <td>98.648628</td>\n",
       "      <td>412.677238</td>\n",
       "      <td>79.965281</td>\n",
       "      <td>...</td>\n",
       "      <td>554.723592</td>\n",
       "      <td>93.139407</td>\n",
       "      <td>492.582892</td>\n",
       "      <td>71.359186</td>\n",
       "      <td>5.733099e+00</td>\n",
       "      <td>5.840578</td>\n",
       "      <td>5.251600</td>\n",
       "      <td>4.000000</td>\n",
       "      <td>2.000000</td>\n",
       "      <td>2.000000</td>\n",
       "    </tr>\n",
       "  </tbody>\n",
       "</table>\n",
       "<p>8 rows × 25 columns</p>\n",
       "</div>"
      ],
      "text/plain": [
       "                RA          DEC    log_Mstar      log_SFR   Vel_ST_1Re  \\\n",
       "count  4215.000000  4215.000000  4215.000000  4215.000000  2683.000000   \n",
       "mean    183.003134    28.444095    10.397897    -0.455838   153.706179   \n",
       "std      76.247429    18.071347     0.648660     0.772142    60.847614   \n",
       "min       0.008808    -9.302426     8.311000    -3.341000    22.235921   \n",
       "25%     129.575530    14.302337     9.929000    -0.857500   109.931653   \n",
       "50%     193.855953    29.730240    10.475000    -0.332000   149.221053   \n",
       "75%     241.004600    43.796510    10.900000     0.089500   192.205449   \n",
       "max     359.175241    64.575924    11.884000     1.484000   422.727360   \n",
       "\n",
       "       err_Vel_ST_1Re  Vel_ST_1.3Re  err_Vel_ST_1.3Re  Vel_ST_2Re  \\\n",
       "count     2683.000000   2211.000000       2211.000000  530.000000   \n",
       "mean        19.422458    167.347745         21.235919  176.714550   \n",
       "std         13.503262     62.284140         13.602468   56.550937   \n",
       "min          1.481081     18.529519          1.618280   28.260901   \n",
       "25%         10.388668    122.850060         11.692165  137.126743   \n",
       "50%         14.795975    165.344211         16.837213  177.027561   \n",
       "75%         23.999187    207.085632         26.667221  212.973943   \n",
       "max        101.221194    421.255184         98.648628  412.677238   \n",
       "\n",
       "       err_Vel_ST_2Re  ...  Vel_G_1.3Re  err_Vel_G_1.3Re    Vel_G_2Re  \\\n",
       "count      530.000000  ...  3047.000000      3047.000000  1019.000000   \n",
       "mean        25.231502  ...   163.069427        11.037370   175.314716   \n",
       "std         13.721024  ...    75.338318         6.826275    66.335105   \n",
       "min          3.608339  ...    31.611598         7.000000    44.140662   \n",
       "25%         15.465548  ...   105.682820         7.958917   125.296019   \n",
       "50%         21.116852  ...   147.294116         9.036829   164.012096   \n",
       "75%         31.934439  ...   207.417699        11.159183   216.536433   \n",
       "max         79.965281  ...   554.723592        93.139407   492.582892   \n",
       "\n",
       "       err_Vel_G_2Re    Vsig_G_1Re  Vsig_G_1.3Re   Vsig_G_2Re       Sample  \\\n",
       "count    1019.000000  3.430000e+03   3047.000000  1019.000000  4215.000000   \n",
       "mean       11.292862  1.754429e+00      2.021641     2.258514     2.474021   \n",
       "std         5.966135  8.537545e-01      0.935755     0.878977     1.019379   \n",
       "min         7.000000  3.498140e-08      0.071193     0.196093     1.000000   \n",
       "25%         8.300557  1.100537e+00      1.324439     1.659018     2.000000   \n",
       "50%         9.608187  1.687689e+00      1.959465     2.236492     2.000000   \n",
       "75%        12.075678  2.266262e+00      2.603519     2.809149     3.000000   \n",
       "max        71.359186  5.733099e+00      5.840578     5.251600     4.000000   \n",
       "\n",
       "           Rmax_ST       Rmax_G  \n",
       "count  2689.000000  3430.000000  \n",
       "mean      1.384641     1.474461  \n",
       "std       0.324734     0.353866  \n",
       "min       1.000000     1.000000  \n",
       "25%       1.300000     1.300000  \n",
       "50%       1.300000     1.300000  \n",
       "75%       1.300000     2.000000  \n",
       "max       2.000000     2.000000  \n",
       "\n",
       "[8 rows x 25 columns]"
      ]
     },
     "execution_count": 127,
     "metadata": {},
     "output_type": "execute_result"
    }
   ],
   "source": [
    "df.describe()"
   ]
  },
  {
   "cell_type": "markdown",
   "metadata": {},
   "source": [
    "15. Now make y be the log of one of the measured velocities, and x be the stellar mass (log stellar mass) and do the rest of the [Linear Regression Tutorial](https://prappleizer.github.io/#tutorials). This is a classic - fitting a straight line to a log-log plot in astronomy. \n",
    "\n",
    "You're going to find it doesn't work unless you remove NaN values. One way to do that is using [Pandas Dropna](https://pandas.pydata.org/pandas-docs/stable/reference/api/pandas.DataFrame.dropna.html) function. E.g. the below removes all rows with NaN (\"not a number\") values in stellar mass or the velocity in the gas measured at 1Re. \n",
    "\n",
    "```dfclean=df.dropna(subset=['log_Mstar', 'Vel_G_1Re'])```\n",
    "\n",
    "It's usually good to check what that does. ```df.size``` will tell you how many rows you lose. \n",
    "\n",
    "Note that there is (Mar 2024) an error in the the code for the quadratic fit. What is below is different from the tutorial. "
   ]
  },
  {
   "cell_type": "code",
   "execution_count": null,
   "metadata": {
    "tags": []
   },
   "outputs": [],
   "source": [
    "dfclean=df.dropna(subset=['log_Mstar', 'Vel_G_1Re'])\n",
    "dfclean.size"
   ]
  },
  {
   "cell_type": "code",
   "execution_count": null,
   "metadata": {
    "tags": []
   },
   "outputs": [],
   "source": [
    "df.size"
   ]
  },
  {
   "cell_type": "code",
   "execution_count": null,
   "metadata": {
    "tags": []
   },
   "outputs": [],
   "source": [
    "x = dfclean.log_Mstar\n",
    "y = np.log10(dfclean.Vel_G_1Re)\n",
    "\n",
    "plt.plot(x,y,'b+',label='data')\n",
    "plt.legend()\n",
    "plt.xlabel('x values')\n",
    "plt.ylabel('y values')\n",
    "plt.title('Data to Fit')"
   ]
  },
  {
   "cell_type": "code",
   "execution_count": 151,
   "metadata": {
    "execution": {
     "iopub.execute_input": "2024-02-24T14:21:22.664698Z",
     "iopub.status.busy": "2024-02-24T14:21:22.663049Z",
     "iopub.status.idle": "2024-02-24T14:21:22.676710Z",
     "shell.execute_reply": "2024-02-24T14:21:22.675009Z",
     "shell.execute_reply.started": "2024-02-24T14:21:22.664580Z"
    },
    "tags": []
   },
   "outputs": [],
   "source": [
    "def linear_fit(x_data, y_data):\n",
    "    N = len(x_data)\n",
    "    array_1 = np.array([[N, np.sum(x_data)],[np.sum(x_data),np.sum(x_data**2)]])\n",
    "    array_3 = np.array([[np.sum(y_data)],[np.sum(y_data*x_data)]])\n",
    "    array_1_inv = np.linalg.inv(array_1)\n",
    "    out_arr = np.dot(array_1_inv,array_3)\n",
    "    intercept, slope = out_arr[0], out_arr[1]\n",
    "    return slope, intercept"
   ]
  },
  {
   "cell_type": "code",
   "execution_count": null,
   "metadata": {
    "tags": []
   },
   "outputs": [],
   "source": [
    "linear_fit(x,y)"
   ]
  },
  {
   "cell_type": "code",
   "execution_count": null,
   "metadata": {
    "tags": []
   },
   "outputs": [],
   "source": [
    "def plot_fit(x,y):\n",
    "    slope, intercept = linear_fit(x,y)\n",
    "    fit_line = slope*x + intercept\n",
    "    plt.plot(x,y,'b+',label='data')\n",
    "    plt.plot(x,fit_line,'r',label='Linear Fit')\n",
    "    plt.legend()\n",
    "    plt.xlabel(r'$\\log(M/M_\\odot)$')\n",
    "    plt.ylabel(r'$\\log V_{\\rm gas}$ at 1 R$_e$')\n",
    "    plt.title('Ionized gas Tully-Fisher Relation')\n",
    "    plt.show()\n",
    "    \n",
    "\n",
    "plot_fit(x,y)"
   ]
  },
  {
   "cell_type": "code",
   "execution_count": 155,
   "metadata": {
    "execution": {
     "iopub.execute_input": "2024-02-24T14:28:39.273332Z",
     "iopub.status.busy": "2024-02-24T14:28:39.269733Z",
     "iopub.status.idle": "2024-02-24T14:28:39.286017Z",
     "shell.execute_reply": "2024-02-24T14:28:39.283576Z",
     "shell.execute_reply.started": "2024-02-24T14:28:39.273248Z"
    }
   },
   "outputs": [],
   "source": [
    "def return_residuals(x,y):\n",
    "    slope, intercept = linear_fit(x,y)\n",
    "    fit_line = slope*x + intercept\n",
    "    residuals = y - fit_line\n",
    "    return residuals, np.sum(residuals)"
   ]
  },
  {
   "cell_type": "code",
   "execution_count": null,
   "metadata": {
    "tags": []
   },
   "outputs": [],
   "source": [
    "residuals, sum_residuals = return_residuals(x,y)\n",
    "print(sum_residuals)"
   ]
  },
  {
   "cell_type": "code",
   "execution_count": null,
   "metadata": {
    "tags": []
   },
   "outputs": [],
   "source": [
    "def quadratic_fit(x,y):\n",
    "    fit_coefficients = np.polyfit(x,y,2)\n",
    "    a0, a1, a2 = fit_coefficients[0], fit_coefficients[1], fit_coefficients[2]\n",
    "    return a0, a1, a2\n",
    "def plot_quadratic_fit(x,y):\n",
    "    a0, a1, a2 = quadratic_fit(x,y)\n",
    "    xplot=np.arange(np.min(x),np.max(x),0.1)\n",
    "    fit_line = a0*xplot**2 + xplot*a1 + a2\n",
    "    plt.plot(x,y,'b+',label='data')\n",
    "    plt.plot(xplot,fit_line,'r',label='quadratic fit')\n",
    "    plt.legend()\n",
    "    plt.show()\n",
    "    \n",
    "plot_quadratic_fit(x,y)\n",
    "print(quadratic_fit(x,y))"
   ]
  },
  {
   "cell_type": "markdown",
   "metadata": {},
   "source": [
    "16. How does your linear line fit compare to the relation published in the paper? Make sure to label your plot axes better than the \"x values\" and \"y values\" in the tutorial! \n",
    "\n",
    "[[[YOUR ANSWERS HERE]]]\n",
    "\n",
    "My fit equation is: $\\log V_{\\rm gas}$ at 1 R$_e$ = AAA $\\log (M/M_\\odot)$ - BBB\n"
   ]
  },
  {
   "cell_type": "markdown",
   "metadata": {},
   "source": [
    "17. Bonus - remake the plot showing both your fit, and the paper fit. "
   ]
  },
  {
   "cell_type": "code",
   "execution_count": null,
   "metadata": {
    "tags": []
   },
   "outputs": [],
   "source": []
  },
  {
   "cell_type": "markdown",
   "metadata": {},
   "source": [
    "As you will have noticed, things aren't totally identical, although they are similar. Usually we don't write our own linear fitting code. The paper used [EMCEE sampler PYTHON package](https://emcee.readthedocs.io/en/stable/tutorials/line/) (Foreman-Mackey et al. 2013) and the orthogonal linear regression implemented by the [HyperFit](https://hyperfit.readthedocs.io/en/latest/tutorial.html#) package (Robotham & Obreschkow 2015). \n",
    "\n",
    "If you follow the links you will see both of these modules come with tutorials (which may be useful in the future, or you can look at if you found the rest of this notebook really easy - consider them optional extensions). Turns out some astronomers get really into line fitting codes, which is super useful for the rest of us. \n",
    "\n",
    "Both Scipy and Numpy also have line fitting. [scipy.stats.linregress](https://docs.scipy.org/doc/scipy/reference/generated/scipy.stats.linregress.html) and [numpy.polyfit](https://numpy.org/doc/stable/reference/generated/numpy.polyfit.html). Try out both of these (with a straight line - you may have noticed the tutorial used np.polyfit for the quadratic!) and compare to your line fit. "
   ]
  },
  {
   "cell_type": "code",
   "execution_count": null,
   "metadata": {},
   "outputs": [],
   "source": [
    "#Try Scipy and Numpy fitting in some cells here"
   ]
  },
  {
   "cell_type": "markdown",
   "metadata": {},
   "source": [
    "### How good is the correlation? \n",
    "\n",
    "A commonly used metric of how well two variables correlate is the [Pearson's Correlstion Coefficient](https://docs.scipy.org/doc/scipy/reference/generated/scipy.stats.pearsonr.html). We can use the ```Scipy.stats.pearsonr``` to get that for the Tully-Fisher relation."
   ]
  },
  {
   "cell_type": "code",
   "execution_count": null,
   "metadata": {
    "tags": []
   },
   "outputs": [],
   "source": [
    "res = stats.pearsonr(x, y)\n",
    "res"
   ]
  },
  {
   "cell_type": "markdown",
   "metadata": {},
   "source": [
    "Add a comment on the correlation here. \n",
    "\n",
    "[[[YOUR ANSWER HERE]]]"
   ]
  },
  {
   "cell_type": "markdown",
   "metadata": {
    "execution": {
     "iopub.execute_input": "2024-02-24T14:35:12.190312Z",
     "iopub.status.busy": "2024-02-24T14:35:12.189533Z",
     "iopub.status.idle": "2024-02-24T14:35:12.198228Z",
     "shell.execute_reply": "2024-02-24T14:35:12.196812Z",
     "shell.execute_reply.started": "2024-02-24T14:35:12.190258Z"
    }
   },
   "source": [
    "## Histograms of MaNGA Gas Velocities Compared to HI Global Profiles\n",
    "\n",
    "The last thing to explore in this tutorial is how histograms of velocities measured my MaNGA compare to the HI global profiles measured by HI-MaNGA. Historically the Tully-Fisher relation was actually measured using line widths from HI measurements, which probe the dynamics in the outer parts of galaxies better (because atomic hydrogen usually extends out way beyond where we can detect light from stars or ionized gas). \n",
    "\n",
    "We'll go back to a different example galaxy from Ristea et al. sample which has a nice regular rotation, and will turn out to have a GBT HI observation too (10214-12701).\n",
    "\n",
    "Marvin actually has an integrated [histogram plot](https://sdss-marvin.readthedocs.io/en/stable/tools/utils/plot-hist.html) (based on the Matplotlib ```hist()``` function), but I usually just use matplotlib histograms. \n",
    "\n",
    "First re-plot your four panel figure for this galaxy so you remember what it looks like (copy your code from above). "
   ]
  },
  {
   "cell_type": "code",
   "execution_count": null,
   "metadata": {
    "tags": []
   },
   "outputs": [],
   "source": [
    "maps = Maps('10214-12701')\n",
    "\n"
   ]
  },
  {
   "cell_type": "markdown",
   "metadata": {},
   "source": [
    "Now make a histogram of the halphavel values. This is stored as a 2D array, and has odd values unless a mask is applied, so first apply a S/N mask, then unravel it. "
   ]
  },
  {
   "cell_type": "code",
   "execution_count": 232,
   "metadata": {
    "execution": {
     "iopub.execute_input": "2024-02-24T15:36:33.186251Z",
     "iopub.status.busy": "2024-02-24T15:36:33.185519Z",
     "iopub.status.idle": "2024-02-24T15:36:33.206877Z",
     "shell.execute_reply": "2024-02-24T15:36:33.204816Z",
     "shell.execute_reply.started": "2024-02-24T15:36:33.186198Z"
    },
    "tags": []
   },
   "outputs": [
    {
     "data": {
      "text/plain": [
       "array([ 134.4595  ,  135.94337 ,  149.85861 , ..., -117.393486,\n",
       "       -114.71733 , -104.21476 ])"
      ]
     },
     "execution_count": 232,
     "metadata": {},
     "output_type": "execute_result"
    }
   ],
   "source": [
    "mask_snr10 = (halpha.snr < 10) * halpha.pixmask.labels_to_value('DONOTUSE')\n",
    "mask = halpha.mask | mask_snr10\n",
    "\n",
    "vel=np.array(halphavel.value[mask==0])\n",
    "vel=vel.flatten()\n",
    "vel"
   ]
  },
  {
   "cell_type": "markdown",
   "metadata": {
    "execution": {
     "iopub.execute_input": "2024-02-24T14:55:03.434061Z",
     "iopub.status.busy": "2024-02-24T14:55:03.433013Z",
     "iopub.status.idle": "2024-02-24T14:55:03.447491Z",
     "shell.execute_reply": "2024-02-24T14:55:03.444477Z",
     "shell.execute_reply.started": "2024-02-24T14:55:03.433987Z"
    }
   },
   "source": [
    "And this is some Marvin code to make a histogram. "
   ]
  },
  {
   "cell_type": "code",
   "execution_count": null,
   "metadata": {
    "tags": []
   },
   "outputs": [],
   "source": [
    "from marvin.utils.plot.scatter import hist\n",
    "\n",
    "# use a Marvin DataModel object from DR17\n",
    "from marvin.utils.datamodel.dap import datamodel\n",
    "dm = datamodel['DR17']\n",
    "# grab the Ha emission line flux property\n",
    "prop = dm['emline_gvel_ha']\n",
    "\n",
    "# make the histogram using the Marvin Property to label\n",
    "out = hist(vel, xlabel=prop, bins=20)"
   ]
  },
  {
   "cell_type": "markdown",
   "metadata": {
    "execution": {
     "iopub.execute_input": "2024-02-24T14:43:56.189085Z",
     "iopub.status.busy": "2024-02-24T14:43:56.187972Z",
     "iopub.status.idle": "2024-02-24T14:43:59.847829Z",
     "shell.execute_reply": "2024-02-24T14:43:59.845881Z",
     "shell.execute_reply.started": "2024-02-24T14:43:56.188992Z"
    },
    "tags": []
   },
   "source": [
    "Now do the same thing using matplotlib histogram function. "
   ]
  },
  {
   "cell_type": "code",
   "execution_count": null,
   "metadata": {},
   "outputs": [],
   "source": []
  },
  {
   "cell_type": "markdown",
   "metadata": {},
   "source": [
    "### Comparing Two Histogram\n",
    "\n",
    "Something we often want to do is compare two histograms of properties and see how similar they are. Let's do that for the gas and stellar velcities for our galaxy. We already have what we need for the gas vel. Let's make an identical list of stellar vels. "
   ]
  },
  {
   "cell_type": "code",
   "execution_count": 239,
   "metadata": {
    "execution": {
     "iopub.execute_input": "2024-02-24T15:38:33.654952Z",
     "iopub.status.busy": "2024-02-24T15:38:33.654128Z",
     "iopub.status.idle": "2024-02-24T15:38:33.819001Z",
     "shell.execute_reply": "2024-02-24T15:38:33.816861Z",
     "shell.execute_reply.started": "2024-02-24T15:38:33.654886Z"
    },
    "tags": []
   },
   "outputs": [],
   "source": [
    "STvel=np.array(stvel.value[mask==0])\n",
    "STvel=STvel.flatten()\n",
    "prop2=dm['Stellar_vel']"
   ]
  },
  {
   "cell_type": "markdown",
   "metadata": {},
   "source": [
    "Now let's make a histogram showing both of those with identical bins. "
   ]
  },
  {
   "cell_type": "code",
   "execution_count": null,
   "metadata": {
    "tags": []
   },
   "outputs": [],
   "source": [
    "plt.hist(vel,range=[-150,150],bins=20,label=prop,alpha=1)\n",
    "plt.hist(STvel,range=[-150,150],bins=20,label=prop2,alpha=0.5)\n",
    "plt.xtitle=('Stellar or gas velocity')\n",
    "plt.legend()"
   ]
  },
  {
   "cell_type": "markdown",
   "metadata": {},
   "source": [
    "These look pretty different to me, but lets put some statistics on that, using the [Kolmogorov-Smirnov two sample test](https://en.wikipedia.org/wiki/Kolmogorov%E2%80%93Smirnov_test#Two-sample_Kolmogorov%E2%80%93Smirnov_test) (yes that's a Wikipedia link, but I bet it's accurate and detailed and Scipy doesn't explain it much), conveniently available as ```scipy.stats.ks_2samp```\n",
    "\n",
    "Small p-values mean the distributions are unlikely to be the same, typically ```pvalue<0.05``` is used to rule that out at 95% confidence (for the sample size you have). "
   ]
  },
  {
   "cell_type": "code",
   "execution_count": null,
   "metadata": {
    "tags": []
   },
   "outputs": [],
   "source": [
    "stats.ks_2samp(vel, STvel)"
   ]
  },
  {
   "cell_type": "markdown",
   "metadata": {},
   "source": [
    "Q. What do you conclude from your KS test? \n",
    "\n",
    "[[[YOUR ANSWER HERE]]]"
   ]
  },
  {
   "cell_type": "markdown",
   "metadata": {},
   "source": [
    "## Galaxy Meta Data \n",
    "\n",
    "As described in the [Basics of Marvin](https://sdss-marvin.readthedocs.io/en/stable/tutorials/notebooks/Basics_of_Marvin.html) tutorial, each galaxy also comes with a bunch of associated meta data, meaning things which are a single value per galaxy, not spaxel-based arrays. For example\n",
    "\n",
    "* [NASA Sloan Atlas (NSA)](https://www.sdss4.org/dr17/manga/manga-target-selection/nsa/) - a catalogue of values mostly based on the original SDSS imaging and single fiber spectroscopy which was used to select the MaNGA sample\n",
    "* [DRAPall](https://www.sdss4.org/dr17/manga/manga-data/catalogs/#DRPALLFile) - a summary file from the Data Reduction Pipeline, with data about observing conditions (also contains some values from the NSA)\n",
    "* [DAPall](https://www.sdss4.org/dr17/manga/manga-data/catalogs/#DAPALLFile) - a summary file from the Data Analysis Pipeline, with some global measurements based on emission line, and spectral index measurements. \n",
    "* [Value-Added-Catalogues (VACS)](https://www.sdss4.org/dr17/data_access/value-added-catalogs) - ancillary (extra) data about the galaxies provided by various teams associaed with MaNGA. E.g. HI-MaNGA (which we work on at Haverford) is one of these, for HI followup of the MaNGA sample. "
   ]
  },
  {
   "cell_type": "code",
   "execution_count": 195,
   "metadata": {
    "execution": {
     "iopub.execute_input": "2024-02-24T15:00:40.236968Z",
     "iopub.status.busy": "2024-02-24T15:00:40.236274Z",
     "iopub.status.idle": "2024-02-24T15:00:40.247898Z",
     "shell.execute_reply": "2024-02-24T15:00:40.245457Z",
     "shell.execute_reply.started": "2024-02-24T15:00:40.236916Z"
    },
    "tags": []
   },
   "outputs": [],
   "source": [
    "#Look at NASA Sloan Atlas (NSA) values associated with our galaxy\n",
    "#maps.nsa # PLEASE COMMENT THIS LINE AND RE-RUN BEFORE SUBMITTING"
   ]
  },
  {
   "cell_type": "code",
   "execution_count": 197,
   "metadata": {
    "execution": {
     "iopub.execute_input": "2024-02-24T15:01:30.341768Z",
     "iopub.status.busy": "2024-02-24T15:01:30.340514Z",
     "iopub.status.idle": "2024-02-24T15:01:30.350169Z",
     "shell.execute_reply": "2024-02-24T15:01:30.348621Z",
     "shell.execute_reply.started": "2024-02-24T15:01:30.341641Z"
    },
    "tags": []
   },
   "outputs": [],
   "source": [
    "#The DAP provides a summary file. \n",
    "#maps.dapall # PLEASE COMMENT THIS LINE AND RE-RUN BEFORE SUBMITTING"
   ]
  },
  {
   "cell_type": "markdown",
   "metadata": {},
   "source": [
    "Overplot on one of your histograms vertical lines at the values of these DAP summary quantities. \n",
    "* 'ha_gvel_lo'\n",
    "* 'ha_gvel_hi'\n",
    "* 'ha_gvel_lo_clip'\n",
    "* 'ha_gvel_hi_clip'\n",
    "\n",
    "I provide one example to get your started"
   ]
  },
  {
   "cell_type": "code",
   "execution_count": 222,
   "metadata": {
    "execution": {
     "iopub.execute_input": "2024-02-24T15:20:03.291812Z",
     "iopub.status.busy": "2024-02-24T15:20:03.290788Z",
     "iopub.status.idle": "2024-02-24T15:20:04.388078Z",
     "shell.execute_reply": "2024-02-24T15:20:04.385911Z",
     "shell.execute_reply.started": "2024-02-24T15:20:03.291723Z"
    },
    "tags": []
   },
   "outputs": [
    {
     "data": {
      "text/plain": [
       "[<matplotlib.lines.Line2D at 0x7f1d92a2ca90>]"
      ]
     },
     "execution_count": 222,
     "metadata": {},
     "output_type": "execute_result"
    },
    {
     "data": {
      "image/png": "[encoded data removed]",
      "text/plain": [
       "<Figure size 432x288 with 1 Axes>"
      ]
     },
     "metadata": {},
     "output_type": "display_data"
    }
   ],
   "source": [
    "a = maps.dapall['ha_gvel_hi']\n",
    "out = hist(vel, xlabel=prop, bins=20)\n",
    "plt.plot([a,a],[0,100])"
   ]
  },
  {
   "cell_type": "markdown",
   "metadata": {},
   "source": [
    "16. What did I ask you to plot? You probably need to visit some DAP documentation to figure it out. \n",
    "\n",
    "[[[YOUR ANSWER HERE]]]"
   ]
  },
  {
   "cell_type": "markdown",
   "metadata": {},
   "source": [
    "Now Value Added Catalogue (VACs). Our Haverford Galaxy Group HI observations are accessible in Marvin! At least the publicly released ones. First we figure out which VACs are available for this galaxy. "
   ]
  },
  {
   "cell_type": "code",
   "execution_count": null,
   "metadata": {
    "tags": []
   },
   "outputs": [],
   "source": [
    "vacs = maps.vacs\n",
    "vacs"
   ]
  },
  {
   "cell_type": "markdown",
   "metadata": {},
   "source": [
    "Yay it has a HI data entry. Also Galaxy Zoo, GZ3D, GEMA (environment) and Firefly (which for the group - is like Pipe3D, but I think Pipe3D is more reliable). Let's access the HI data. This is still all in the [Basics of Marvin](https://sdss-marvin.readthedocs.io/en/stable/tutorials/notebooks/Basics_of_Marvin.html) tutorial, but you have to use \"HI\" not \"mangahi\". "
   ]
  },
  {
   "cell_type": "code",
   "execution_count": null,
   "metadata": {
    "tags": []
   },
   "outputs": [],
   "source": [
    "# access the mangahi vac\n",
    "hi = vacs.HI\n",
    "print(hi)\n",
    "print('data type:', type(hi))\n",
    "\n",
    "# access any HI data available for 8485-1901\n",
    "hi.data\n"
   ]
  },
  {
   "cell_type": "markdown",
   "metadata": {},
   "source": [
    "So this galaxy was observed at GBT in 2019 ('AGBT19A_127_45' appears in that data). That's why I picked it. You can actually look at the spectrum in Marvin like this (see [VACs in Marvin](https://sdss-marvin.readthedocs.io/en/stable/tools/vacs.html): "
   ]
  },
  {
   "cell_type": "code",
   "execution_count": null,
   "metadata": {
    "tags": []
   },
   "outputs": [],
   "source": [
    "hi.plot_spectrum()"
   ]
  },
  {
   "cell_type": "markdown",
   "metadata": {},
   "source": [
    "17. This is effectively a HI mass weighted histogram of the HI velocities observed in this galaxy. Compare this to your histogram of halpha gas velocities, and comment on how it is similar, and how it differs. \n",
    "\n",
    "[[[YOUR ANSWER HERE]]"
   ]
  },
  {
   "cell_type": "markdown",
   "metadata": {},
   "source": [
    "That's all I prepared. Optional extension ideas I haven't tried: \n",
    "* Plot the HI width against the velocities measured by Ristea. You want ```hi['WM50']``` for that, and you will have to get it for all the galaxies in the Ristea sample. How well do they correlated? Good luck! \n",
    "* Make a HI Tully-Fisher relation. You can do that from the [```mangaHIall.fits``` file](https://data.sdss.org/sas/dr17/env/MANGA_HI/v2_0_1/), or accessing the HI values through Marvin. Notice the HI data also has a ```hi['LOGMSTARS']``` column, or you can use the HI mass rather than stellar mass. "
   ]
  }
 ],
 "metadata": {
  "kernelspec": {
   "display_name": "Python 3.8 (py38)",
   "language": "python",
   "name": "py38"
  },
  "language_info": {
   "codemirror_mode": {
    "name": "ipython",
    "version": 3
   },
   "file_extension": ".py",
   "mimetype": "text/x-python",
   "name": "python",
   "nbconvert_exporter": "python",
   "pygments_lexer": "ipython3",
   "version": "3.8.5"
  }
 },
 "nbformat": 4,
 "nbformat_minor": 4
}
